{
 "cells": [
  {
   "cell_type": "markdown",
   "metadata": {},
   "source": [
    "# SMS Spam Detection AI test\n",
    "\n",
    "This notebook aims to demonstrate an activity do predict if a give SMS it is or not a spam. \n",
    "throughout this demonstration, some data cleaning and NLP concecpts will be applied. At the final, after process our data, we will train a model and check if our concepts were well or badly applied. \n",
    "\n",
    "This notebook is part of a pratical prove provided from NUVEO."
   ]
  },
  {
   "cell_type": "markdown",
   "metadata": {},
   "source": [
    "### Imports\n",
    "\n",
    "For the purpose of this task, the following libraries will be helping us to present the ideas trhough this notebook."
   ]
  },
  {
   "cell_type": "code",
   "execution_count": 31,
   "metadata": {},
   "outputs": [
    {
     "name": "stderr",
     "output_type": "stream",
     "text": [
      "[nltk_data] Downloading package stopwords to /home/joao/nltk_data...\n",
      "[nltk_data]   Package stopwords is already up-to-date!\n"
     ]
    },
    {
     "data": {
      "text/plain": [
       "True"
      ]
     },
     "execution_count": 31,
     "metadata": {},
     "output_type": "execute_result"
    }
   ],
   "source": [
    "import matplotlib.pyplot as plt\n",
    "import seaborn as sns\n",
    "\n",
    "import pandas as pd\n",
    "import nltk\n",
    "\n",
    "import string\n",
    "from nltk.corpus import stopwords\n",
    "from sklearn.feature_extraction.text import TfidfVectorizer\n",
    "from sklearn import metrics\n",
    "%matplotlib inline\n",
    "nltk.download(\"stopwords\")"
   ]
  },
  {
   "cell_type": "markdown",
   "metadata": {},
   "source": [
    "### Data study\n",
    "\n",
    "In our first step, we will try to understand a little bit more of our data and wich metrics we can take to help in our future model training process.\n",
    "\n",
    "To read our data, we are going to use pandas library and \\t separator to divide our data in a correct way. Our columns will be named `outcome` and `message`\n"
   ]
  },
  {
   "cell_type": "code",
   "execution_count": 2,
   "metadata": {},
   "outputs": [
    {
     "data": {
      "text/html": [
       "<div>\n",
       "<style scoped>\n",
       "    .dataframe tbody tr th:only-of-type {\n",
       "        vertical-align: middle;\n",
       "    }\n",
       "\n",
       "    .dataframe tbody tr th {\n",
       "        vertical-align: top;\n",
       "    }\n",
       "\n",
       "    .dataframe thead th {\n",
       "        text-align: right;\n",
       "    }\n",
       "</style>\n",
       "<table border=\"1\" class=\"dataframe\">\n",
       "  <thead>\n",
       "    <tr style=\"text-align: right;\">\n",
       "      <th></th>\n",
       "      <th>outcome</th>\n",
       "      <th>message</th>\n",
       "    </tr>\n",
       "  </thead>\n",
       "  <tbody>\n",
       "    <tr>\n",
       "      <th>0</th>\n",
       "      <td>ham</td>\n",
       "      <td>Go until jurong point, crazy.. Available only ...</td>\n",
       "    </tr>\n",
       "    <tr>\n",
       "      <th>1</th>\n",
       "      <td>spam</td>\n",
       "      <td>SMSSERVICES. for yourinclusive text credits, p...</td>\n",
       "    </tr>\n",
       "    <tr>\n",
       "      <th>2</th>\n",
       "      <td>spam</td>\n",
       "      <td>25p 4 alfie Moon's Children in need song on ur...</td>\n",
       "    </tr>\n",
       "    <tr>\n",
       "      <th>3</th>\n",
       "      <td>spam</td>\n",
       "      <td>U have a secret admirer. REVEAL who thinks U R...</td>\n",
       "    </tr>\n",
       "    <tr>\n",
       "      <th>4</th>\n",
       "      <td>spam</td>\n",
       "      <td>Dear Voucher Holder, To claim this weeks offer...</td>\n",
       "    </tr>\n",
       "  </tbody>\n",
       "</table>\n",
       "</div>"
      ],
      "text/plain": [
       "  outcome                                            message\n",
       "0     ham  Go until jurong point, crazy.. Available only ...\n",
       "1    spam  SMSSERVICES. for yourinclusive text credits, p...\n",
       "2    spam  25p 4 alfie Moon's Children in need song on ur...\n",
       "3    spam  U have a secret admirer. REVEAL who thinks U R...\n",
       "4    spam  Dear Voucher Holder, To claim this weeks offer..."
      ]
     },
     "execution_count": 2,
     "metadata": {},
     "output_type": "execute_result"
    }
   ],
   "source": [
    "sms_data = pd.read_csv('./TrainingSet/sms-hamspam-train.csv', sep='\\t',names=[\"outcome\",\"message\"])\n",
    "sms_data.head()"
   ]
  },
  {
   "cell_type": "markdown",
   "metadata": {},
   "source": [
    "#### Load testset data"
   ]
  },
  {
   "cell_type": "code",
   "execution_count": 63,
   "metadata": {},
   "outputs": [
    {
     "data": {
      "text/html": [
       "<div>\n",
       "<style scoped>\n",
       "    .dataframe tbody tr th:only-of-type {\n",
       "        vertical-align: middle;\n",
       "    }\n",
       "\n",
       "    .dataframe tbody tr th {\n",
       "        vertical-align: top;\n",
       "    }\n",
       "\n",
       "    .dataframe thead th {\n",
       "        text-align: right;\n",
       "    }\n",
       "</style>\n",
       "<table border=\"1\" class=\"dataframe\">\n",
       "  <thead>\n",
       "    <tr style=\"text-align: right;\">\n",
       "      <th></th>\n",
       "      <th>message</th>\n",
       "    </tr>\n",
       "  </thead>\n",
       "  <tbody>\n",
       "    <tr>\n",
       "      <th>0</th>\n",
       "      <td>I know that my friend already told that.</td>\n",
       "    </tr>\n",
       "    <tr>\n",
       "      <th>1</th>\n",
       "      <td>It took Mr owl 3 licks</td>\n",
       "    </tr>\n",
       "    <tr>\n",
       "      <th>2</th>\n",
       "      <td>Dunno y u ask me.</td>\n",
       "    </tr>\n",
       "    <tr>\n",
       "      <th>3</th>\n",
       "      <td>K.k:)advance happy pongal.</td>\n",
       "    </tr>\n",
       "    <tr>\n",
       "      <th>4</th>\n",
       "      <td>I know but you need to get hotel now. I just g...</td>\n",
       "    </tr>\n",
       "  </tbody>\n",
       "</table>\n",
       "</div>"
      ],
      "text/plain": [
       "                                             message\n",
       "0           I know that my friend already told that.\n",
       "1                             It took Mr owl 3 licks\n",
       "2                                  Dunno y u ask me.\n",
       "3                         K.k:)advance happy pongal.\n",
       "4  I know but you need to get hotel now. I just g..."
      ]
     },
     "execution_count": 63,
     "metadata": {},
     "output_type": "execute_result"
    }
   ],
   "source": [
    "sms_data_test = pd.read_csv('./TestSet/sms-hamspam-test.csv', sep='\\t',names=[\"message\",\"outcome\"])\n",
    "sms_data_test.head()"
   ]
  },
  {
   "cell_type": "markdown",
   "metadata": {},
   "source": [
    "First, we can check over the message size to get some insigth wen we compare between the outcomes. To test this hypothesis we are going to create a new column that coitains then number of caracters for message."
   ]
  },
  {
   "cell_type": "code",
   "execution_count": 3,
   "metadata": {},
   "outputs": [],
   "source": [
    "sms_data['len_sms'] = sms_data.apply(lambda x: len(x['message']), axis = 1)"
   ]
  },
  {
   "cell_type": "code",
   "execution_count": 4,
   "metadata": {},
   "outputs": [
    {
     "data": {
      "text/plain": [
       "array([<AxesSubplot:title={'center':'ham'}>,\n",
       "       <AxesSubplot:title={'center':'spam'}>], dtype=object)"
      ]
     },
     "execution_count": 4,
     "metadata": {},
     "output_type": "execute_result"
    },
    {
     "data": {
      "image/png": "[encoded data removed]",
      "text/plain": [
       "<Figure size 864x576 with 2 Axes>"
      ]
     },
     "metadata": {
      "needs_background": "light"
     },
     "output_type": "display_data"
    }
   ],
   "source": [
    "sms_data.hist(column='len_sms', by='outcome', bins=70,figsize=(12,8))"
   ]
  },
  {
   "cell_type": "markdown",
   "metadata": {},
   "source": [
    "When we check this column distribution comparable by each outcome, is possible to notice that the concentrations happens in different places for each histogram, given the idea that this variable can be importat to predict if a message it is or it is not a spam.\n",
    "\n",
    "Another point that can be importante to this kind of task is the ponctuation in each message. We will do the same thing that we did here, with an small difference that\n",
    "Para checar a distribuição dessa coluna quando comparadas por cada outcome, é possível notar que as concentrações acontecem em lugar diferentes em ambos os histogramas, passando a ideia de que essa variável possar vir a nos ajudar a prever se uma mensagem é ou não spam.\n",
    "\n",
    "Outro ponto que pode vir a ser importante para essa atividade é questão de pontuação ocorrente em cada mensagem do nosso dataset. Veremos se a ocorrência da pontuação parece apresentar ou não uma diferença entre ambos os outcomes."
   ]
  },
  {
   "cell_type": "code",
   "execution_count": 5,
   "metadata": {},
   "outputs": [],
   "source": [
    "def check_punctuation(message):\n",
    "    \"\"\" Check if the gived message has or not punctuation\n",
    "    Args:\n",
    "        message: An string\n",
    "    Returns:\n",
    "        str: return 1 if the message contains a punctuation\n",
    "                0 if the message does not contains\n",
    "    \"\"\"\n",
    "    splited_message = message.split(\" \")\n",
    "    for i in splited_message:\n",
    "        if i in string.punctuation:\n",
    "            return 1\n",
    "    return 0"
   ]
  },
  {
   "cell_type": "code",
   "execution_count": 6,
   "metadata": {},
   "outputs": [],
   "source": [
    "sms_data['punc_sms'] = sms_data.apply(lambda x: check_punctuation(x['message']), axis = 1)"
   ]
  },
  {
   "cell_type": "code",
   "execution_count": 7,
   "metadata": {},
   "outputs": [],
   "source": [
    "sms_data.hist(column='punc_sms', by='outcome',figsize=(12,4))"
   ]
  },
  {
   "cell_type": "markdown",
   "metadata": {},
   "source": [
    "Como é possível ver, a proporção para ambos os outcomes em relação se a menssagem tem ou não tem pontuação é bem parecida, parecendo não ser um grande diferenciador para nós nesse momento. Podemos checar essa proporção vendo a proporção das mensagem que tem pontuação das que não tem para cada outcome da seguinte maneira:"
   ]
  },
  {
   "cell_type": "code",
   "execution_count": 8,
   "metadata": {},
   "outputs": [],
   "source": [
    "proportion_ham = len(sms_data[(sms_data['outcome']=='ham') & \n",
    "                              (sms_data['punc_sms'] == 1)]) / len(sms_data[(sms_data['outcome']=='ham')])\n",
    "print(\"Has punctuation proportion to ham outcome is: {}\".format(proportion_ham))\n",
    "\n",
    "proportion_spam = len(sms_data[(sms_data['outcome']=='spam') & \n",
    "                              (sms_data['punc_sms'] == 1)]) / len(sms_data[(sms_data['outcome']=='spam')])\n",
    "\n",
    "print(\"Has punctuation proportion to ham outcome is: {}\".format(proportion_spam))"
   ]
  },
  {
   "cell_type": "markdown",
   "metadata": {},
   "source": [
    "As we can, the difference is not that big, so we can through it up this metric."
   ]
  },
  {
   "cell_type": "markdown",
   "metadata": {},
   "source": [
    "Looking further into our data, another caracteristc can be seeing. A lot of messages has fully words that has all of their letters in upper case. So, lets check the occurence in both of our outcomes."
   ]
  },
  {
   "cell_type": "code",
   "execution_count": 9,
   "metadata": {},
   "outputs": [],
   "source": [
    "def uppercase_pct(message):\n",
    "    \"\"\" \n",
    "    Args:\n",
    "        message: An string\n",
    "    Returns:\n",
    "        str: return 1 if the message contains a punctuation\n",
    "                0 if the message does not contains\n",
    "    \"\"\"\n",
    "    \n",
    "    total_upper = sum([1 for letter in message if letter.isupper()])\n",
    "    \n",
    "    return total_upper/(len(message) - message.count(\" \"))"
   ]
  },
  {
   "cell_type": "code",
   "execution_count": 10,
   "metadata": {},
   "outputs": [],
   "source": [
    "sms_data['sms_upper_pct'] = sms_data.apply(lambda x: uppercase_pct(x['message']), axis = 1)"
   ]
  },
  {
   "cell_type": "code",
   "execution_count": 11,
   "metadata": {},
   "outputs": [
    {
     "data": {
      "text/plain": [
       "array([<AxesSubplot:title={'center':'ham'}>,\n",
       "       <AxesSubplot:title={'center':'spam'}>], dtype=object)"
      ]
     },
     "execution_count": 11,
     "metadata": {},
     "output_type": "execute_result"
    },
    {
     "data": {
      "image/png": "[encoded data removed]",
      "text/plain": [
       "<Figure size 864x288 with 2 Axes>"
      ]
     },
     "metadata": {
      "needs_background": "light"
     },
     "output_type": "display_data"
    }
   ],
   "source": [
    "sms_data.hist(column='sms_upper_pct', by='outcome',figsize=(12,4))"
   ]
  },
  {
   "cell_type": "markdown",
   "metadata": {},
   "source": [
    "Como podemos ver, o outcome `spam` parece ter uma distribuição dessa porcentagem menos concentrada quando comparada a distribuição do outcome `ham`. Para o nosso propósito, pode vir a ser uma feature importante.\n",
    "\n",
    "Após esse pequeno estudo sobre os nosso dados, temos agora esse dataset:"
   ]
  },
  {
   "cell_type": "code",
   "execution_count": 12,
   "metadata": {},
   "outputs": [
    {
     "data": {
      "text/html": [
       "<div>\n",
       "<style scoped>\n",
       "    .dataframe tbody tr th:only-of-type {\n",
       "        vertical-align: middle;\n",
       "    }\n",
       "\n",
       "    .dataframe tbody tr th {\n",
       "        vertical-align: top;\n",
       "    }\n",
       "\n",
       "    .dataframe thead th {\n",
       "        text-align: right;\n",
       "    }\n",
       "</style>\n",
       "<table border=\"1\" class=\"dataframe\">\n",
       "  <thead>\n",
       "    <tr style=\"text-align: right;\">\n",
       "      <th></th>\n",
       "      <th>outcome</th>\n",
       "      <th>message</th>\n",
       "      <th>len_sms</th>\n",
       "      <th>sms_upper_pct</th>\n",
       "    </tr>\n",
       "  </thead>\n",
       "  <tbody>\n",
       "    <tr>\n",
       "      <th>0</th>\n",
       "      <td>ham</td>\n",
       "      <td>Go until jurong point, crazy.. Available only ...</td>\n",
       "      <td>111</td>\n",
       "      <td>0.032609</td>\n",
       "    </tr>\n",
       "    <tr>\n",
       "      <th>1</th>\n",
       "      <td>spam</td>\n",
       "      <td>SMSSERVICES. for yourinclusive text credits, p...</td>\n",
       "      <td>156</td>\n",
       "      <td>0.175182</td>\n",
       "    </tr>\n",
       "    <tr>\n",
       "      <th>2</th>\n",
       "      <td>spam</td>\n",
       "      <td>25p 4 alfie Moon's Children in need song on ur...</td>\n",
       "      <td>161</td>\n",
       "      <td>0.053435</td>\n",
       "    </tr>\n",
       "    <tr>\n",
       "      <th>3</th>\n",
       "      <td>spam</td>\n",
       "      <td>U have a secret admirer. REVEAL who thinks U R...</td>\n",
       "      <td>147</td>\n",
       "      <td>0.198347</td>\n",
       "    </tr>\n",
       "    <tr>\n",
       "      <th>4</th>\n",
       "      <td>spam</td>\n",
       "      <td>Dear Voucher Holder, To claim this weeks offer...</td>\n",
       "      <td>152</td>\n",
       "      <td>0.100775</td>\n",
       "    </tr>\n",
       "  </tbody>\n",
       "</table>\n",
       "</div>"
      ],
      "text/plain": [
       "  outcome                                            message  len_sms  \\\n",
       "0     ham  Go until jurong point, crazy.. Available only ...      111   \n",
       "1    spam  SMSSERVICES. for yourinclusive text credits, p...      156   \n",
       "2    spam  25p 4 alfie Moon's Children in need song on ur...      161   \n",
       "3    spam  U have a secret admirer. REVEAL who thinks U R...      147   \n",
       "4    spam  Dear Voucher Holder, To claim this weeks offer...      152   \n",
       "\n",
       "   sms_upper_pct  \n",
       "0       0.032609  \n",
       "1       0.175182  \n",
       "2       0.053435  \n",
       "3       0.198347  \n",
       "4       0.100775  "
      ]
     },
     "execution_count": 12,
     "metadata": {},
     "output_type": "execute_result"
    }
   ],
   "source": [
    "sms_data.head()"
   ]
  },
  {
   "cell_type": "markdown",
   "metadata": {},
   "source": [
    "### Data processing\n",
    "\n",
    "Nessa seção, iremos utilizar de algumas técnicas para deixar o nosso dado textual mais limpo e simples de ser usado por um futuro modelo. As seguintes técnicas serão usadas:\n",
    "\n",
    "**Bag of words, lower_case  and ponctuation cleaning:**\n",
    "- Here we going to clean our data by deleting all words/occurences that following at least one of this cases. This process can help to (1) generalize lower/upper case in just one token (2) exclude unecessary common words or ponctuation that will not help at all the model\n",
    "     \n",
    "**Stemmers:**\n",
    "- Following the same idea of generalize some words, we can use [stemmers](http://www.nltk.org/book/ch03.html) to normalize a set of words. Stemmers can be understood as a techinique that make words in different verbal times be the same.\n",
    " \n",
    "**Tf-idf:**\n",
    "- Tf-idf is a technique that applies a weight/score to all words in a given message. To calculate this score, tf-idf uses the term frequency over all corpus data and the frequency over the message. So, doing like this, the final message data will be a sparse vector and each message will be transformed to columns where just the words in this message will be scored.\n",
    "\n",
    "\n",
    "Bellow, we define the functions and apply them over the dataset. We can see the modifications over each cell output."
   ]
  },
  {
   "cell_type": "code",
   "execution_count": 59,
   "metadata": {},
   "outputs": [],
   "source": [
    "def to_lower_case(message):\n",
    "    \"\"\"In case where \"This\" and \"this\" (for example) are part of\n",
    "        the same setence, tokenize them both will give diferent token numbers for each.\n",
    "        Transform the dataset in a case sensitive one\n",
    "        \n",
    "    Args:\n",
    "        message: sms string\n",
    "    Returns:\n",
    "        return all word messages in lower case\n",
    "    \"\"\"\n",
    "    \n",
    "    return \"\".join([word.lower() for word in message])\n",
    "\n",
    "def remove_ponct(message):\n",
    "    \"\"\"Remove any punctuation that exists on the given message\n",
    "    Args:\n",
    "        message: sms string\n",
    "    Returns:\n",
    "        return the message without any punctuation\n",
    "    \"\"\"\n",
    "    \n",
    "    return \"\".join([letter for letter in message if letter not in string.punctuation])\n",
    "\n",
    "def remove_stop_words(message):\n",
    "    \"\"\"Remove any stop word from english that can may affet the model prediction\n",
    "    Args:\n",
    "        message: sms string\n",
    "    Returns:\n",
    "        return the messages without any stopwords from english vocabulary\n",
    "\n",
    "    \"\"\"\n",
    "    splited_message = message.split()\n",
    "\n",
    "    return \" \".join([word for word in splited_message if word not in stopwords.words('english')])\n",
    "\n",
    "def stemming_normalization(message):\n",
    "    \"\"\"Stemming the givef message using PorterStemmer()\n",
    "    Args:\n",
    "        message: sms string\n",
    "    Returns:\n",
    "        return a stemmed sentence\n",
    "    \"\"\"\n",
    "    porter = nltk.PorterStemmer()\n",
    "    splited_message = message.split()\n",
    "    \n",
    "    return \" \".join([porter.stem(word) for word in splited_message])"
   ]
  },
  {
   "cell_type": "markdown",
   "metadata": {},
   "source": [
    "**Applying lower case over all messages**"
   ]
  },
  {
   "cell_type": "code",
   "execution_count": 14,
   "metadata": {},
   "outputs": [
    {
     "data": {
      "text/html": [
       "<div>\n",
       "<style scoped>\n",
       "    .dataframe tbody tr th:only-of-type {\n",
       "        vertical-align: middle;\n",
       "    }\n",
       "\n",
       "    .dataframe tbody tr th {\n",
       "        vertical-align: top;\n",
       "    }\n",
       "\n",
       "    .dataframe thead th {\n",
       "        text-align: right;\n",
       "    }\n",
       "</style>\n",
       "<table border=\"1\" class=\"dataframe\">\n",
       "  <thead>\n",
       "    <tr style=\"text-align: right;\">\n",
       "      <th></th>\n",
       "      <th>outcome</th>\n",
       "      <th>len_sms</th>\n",
       "      <th>sms_upper_pct</th>\n",
       "      <th>lower_message</th>\n",
       "    </tr>\n",
       "  </thead>\n",
       "  <tbody>\n",
       "    <tr>\n",
       "      <th>0</th>\n",
       "      <td>ham</td>\n",
       "      <td>111</td>\n",
       "      <td>0.032609</td>\n",
       "      <td>go until jurong point, crazy.. available only ...</td>\n",
       "    </tr>\n",
       "    <tr>\n",
       "      <th>1</th>\n",
       "      <td>spam</td>\n",
       "      <td>156</td>\n",
       "      <td>0.175182</td>\n",
       "      <td>smsservices. for yourinclusive text credits, p...</td>\n",
       "    </tr>\n",
       "    <tr>\n",
       "      <th>2</th>\n",
       "      <td>spam</td>\n",
       "      <td>161</td>\n",
       "      <td>0.053435</td>\n",
       "      <td>25p 4 alfie moon's children in need song on ur...</td>\n",
       "    </tr>\n",
       "    <tr>\n",
       "      <th>3</th>\n",
       "      <td>spam</td>\n",
       "      <td>147</td>\n",
       "      <td>0.198347</td>\n",
       "      <td>u have a secret admirer. reveal who thinks u r...</td>\n",
       "    </tr>\n",
       "    <tr>\n",
       "      <th>4</th>\n",
       "      <td>spam</td>\n",
       "      <td>152</td>\n",
       "      <td>0.100775</td>\n",
       "      <td>dear voucher holder, to claim this weeks offer...</td>\n",
       "    </tr>\n",
       "  </tbody>\n",
       "</table>\n",
       "</div>"
      ],
      "text/plain": [
       "  outcome  len_sms  sms_upper_pct  \\\n",
       "0     ham      111       0.032609   \n",
       "1    spam      156       0.175182   \n",
       "2    spam      161       0.053435   \n",
       "3    spam      147       0.198347   \n",
       "4    spam      152       0.100775   \n",
       "\n",
       "                                       lower_message  \n",
       "0  go until jurong point, crazy.. available only ...  \n",
       "1  smsservices. for yourinclusive text credits, p...  \n",
       "2  25p 4 alfie moon's children in need song on ur...  \n",
       "3  u have a secret admirer. reveal who thinks u r...  \n",
       "4  dear voucher holder, to claim this weeks offer...  "
      ]
     },
     "execution_count": 14,
     "metadata": {},
     "output_type": "execute_result"
    }
   ],
   "source": [
    "sms_data['lower_message'] = sms_data.apply(lambda x: to_lower_case(x['message']), axis = 1)\n",
    "sms_data.drop(['message'],axis=1, inplace=True)\n",
    "sms_data.head()"
   ]
  },
  {
   "cell_type": "markdown",
   "metadata": {},
   "source": [
    "**Removing punctuation over all messages**"
   ]
  },
  {
   "cell_type": "code",
   "execution_count": 15,
   "metadata": {},
   "outputs": [
    {
     "data": {
      "text/html": [
       "<div>\n",
       "<style scoped>\n",
       "    .dataframe tbody tr th:only-of-type {\n",
       "        vertical-align: middle;\n",
       "    }\n",
       "\n",
       "    .dataframe tbody tr th {\n",
       "        vertical-align: top;\n",
       "    }\n",
       "\n",
       "    .dataframe thead th {\n",
       "        text-align: right;\n",
       "    }\n",
       "</style>\n",
       "<table border=\"1\" class=\"dataframe\">\n",
       "  <thead>\n",
       "    <tr style=\"text-align: right;\">\n",
       "      <th></th>\n",
       "      <th>outcome</th>\n",
       "      <th>len_sms</th>\n",
       "      <th>sms_upper_pct</th>\n",
       "      <th>nopunct_message</th>\n",
       "    </tr>\n",
       "  </thead>\n",
       "  <tbody>\n",
       "    <tr>\n",
       "      <th>0</th>\n",
       "      <td>ham</td>\n",
       "      <td>111</td>\n",
       "      <td>0.032609</td>\n",
       "      <td>go until jurong point crazy available only in ...</td>\n",
       "    </tr>\n",
       "    <tr>\n",
       "      <th>1</th>\n",
       "      <td>spam</td>\n",
       "      <td>156</td>\n",
       "      <td>0.175182</td>\n",
       "      <td>smsservices for yourinclusive text credits pls...</td>\n",
       "    </tr>\n",
       "    <tr>\n",
       "      <th>2</th>\n",
       "      <td>spam</td>\n",
       "      <td>161</td>\n",
       "      <td>0.053435</td>\n",
       "      <td>25p 4 alfie moons children in need song on ur ...</td>\n",
       "    </tr>\n",
       "    <tr>\n",
       "      <th>3</th>\n",
       "      <td>spam</td>\n",
       "      <td>147</td>\n",
       "      <td>0.198347</td>\n",
       "      <td>u have a secret admirer reveal who thinks u r ...</td>\n",
       "    </tr>\n",
       "    <tr>\n",
       "      <th>4</th>\n",
       "      <td>spam</td>\n",
       "      <td>152</td>\n",
       "      <td>0.100775</td>\n",
       "      <td>dear voucher holder to claim this weeks offer ...</td>\n",
       "    </tr>\n",
       "  </tbody>\n",
       "</table>\n",
       "</div>"
      ],
      "text/plain": [
       "  outcome  len_sms  sms_upper_pct  \\\n",
       "0     ham      111       0.032609   \n",
       "1    spam      156       0.175182   \n",
       "2    spam      161       0.053435   \n",
       "3    spam      147       0.198347   \n",
       "4    spam      152       0.100775   \n",
       "\n",
       "                                     nopunct_message  \n",
       "0  go until jurong point crazy available only in ...  \n",
       "1  smsservices for yourinclusive text credits pls...  \n",
       "2  25p 4 alfie moons children in need song on ur ...  \n",
       "3  u have a secret admirer reveal who thinks u r ...  \n",
       "4  dear voucher holder to claim this weeks offer ...  "
      ]
     },
     "execution_count": 15,
     "metadata": {},
     "output_type": "execute_result"
    }
   ],
   "source": [
    "sms_data['nopunct_message'] = sms_data.apply(lambda x: remove_ponct(x['lower_message']), axis = 1)\n",
    "sms_data.drop(['lower_message'],axis=1, inplace=True)\n",
    "sms_data.head()"
   ]
  },
  {
   "cell_type": "markdown",
   "metadata": {},
   "source": [
    "**Removing stop words over all messages**"
   ]
  },
  {
   "cell_type": "code",
   "execution_count": 16,
   "metadata": {},
   "outputs": [
    {
     "data": {
      "text/html": [
       "<div>\n",
       "<style scoped>\n",
       "    .dataframe tbody tr th:only-of-type {\n",
       "        vertical-align: middle;\n",
       "    }\n",
       "\n",
       "    .dataframe tbody tr th {\n",
       "        vertical-align: top;\n",
       "    }\n",
       "\n",
       "    .dataframe thead th {\n",
       "        text-align: right;\n",
       "    }\n",
       "</style>\n",
       "<table border=\"1\" class=\"dataframe\">\n",
       "  <thead>\n",
       "    <tr style=\"text-align: right;\">\n",
       "      <th></th>\n",
       "      <th>outcome</th>\n",
       "      <th>len_sms</th>\n",
       "      <th>sms_upper_pct</th>\n",
       "      <th>no_stop_message</th>\n",
       "    </tr>\n",
       "  </thead>\n",
       "  <tbody>\n",
       "    <tr>\n",
       "      <th>0</th>\n",
       "      <td>ham</td>\n",
       "      <td>111</td>\n",
       "      <td>0.032609</td>\n",
       "      <td>go jurong point crazy available bugis n great ...</td>\n",
       "    </tr>\n",
       "    <tr>\n",
       "      <th>1</th>\n",
       "      <td>spam</td>\n",
       "      <td>156</td>\n",
       "      <td>0.175182</td>\n",
       "      <td>smsservices yourinclusive text credits pls got...</td>\n",
       "    </tr>\n",
       "    <tr>\n",
       "      <th>2</th>\n",
       "      <td>spam</td>\n",
       "      <td>161</td>\n",
       "      <td>0.053435</td>\n",
       "      <td>25p 4 alfie moons children need song ur mob te...</td>\n",
       "    </tr>\n",
       "    <tr>\n",
       "      <th>3</th>\n",
       "      <td>spam</td>\n",
       "      <td>147</td>\n",
       "      <td>0.198347</td>\n",
       "      <td>u secret admirer reveal thinks u r special cal...</td>\n",
       "    </tr>\n",
       "    <tr>\n",
       "      <th>4</th>\n",
       "      <td>spam</td>\n",
       "      <td>152</td>\n",
       "      <td>0.100775</td>\n",
       "      <td>dear voucher holder claim weeks offer pc pleas...</td>\n",
       "    </tr>\n",
       "  </tbody>\n",
       "</table>\n",
       "</div>"
      ],
      "text/plain": [
       "  outcome  len_sms  sms_upper_pct  \\\n",
       "0     ham      111       0.032609   \n",
       "1    spam      156       0.175182   \n",
       "2    spam      161       0.053435   \n",
       "3    spam      147       0.198347   \n",
       "4    spam      152       0.100775   \n",
       "\n",
       "                                     no_stop_message  \n",
       "0  go jurong point crazy available bugis n great ...  \n",
       "1  smsservices yourinclusive text credits pls got...  \n",
       "2  25p 4 alfie moons children need song ur mob te...  \n",
       "3  u secret admirer reveal thinks u r special cal...  \n",
       "4  dear voucher holder claim weeks offer pc pleas...  "
      ]
     },
     "execution_count": 16,
     "metadata": {},
     "output_type": "execute_result"
    }
   ],
   "source": [
    "sms_data['no_stop_message'] = sms_data.apply(lambda x: remove_stop_words(x['nopunct_message']), axis = 1)\n",
    "sms_data.drop(['nopunct_message'],axis=1, inplace=True)\n",
    "sms_data.head()"
   ]
  },
  {
   "cell_type": "markdown",
   "metadata": {},
   "source": [
    "**Applying stemming over all messages**"
   ]
  },
  {
   "cell_type": "code",
   "execution_count": 17,
   "metadata": {},
   "outputs": [
    {
     "data": {
      "text/html": [
       "<div>\n",
       "<style scoped>\n",
       "    .dataframe tbody tr th:only-of-type {\n",
       "        vertical-align: middle;\n",
       "    }\n",
       "\n",
       "    .dataframe tbody tr th {\n",
       "        vertical-align: top;\n",
       "    }\n",
       "\n",
       "    .dataframe thead th {\n",
       "        text-align: right;\n",
       "    }\n",
       "</style>\n",
       "<table border=\"1\" class=\"dataframe\">\n",
       "  <thead>\n",
       "    <tr style=\"text-align: right;\">\n",
       "      <th></th>\n",
       "      <th>outcome</th>\n",
       "      <th>len_sms</th>\n",
       "      <th>sms_upper_pct</th>\n",
       "      <th>cleaned_message</th>\n",
       "    </tr>\n",
       "  </thead>\n",
       "  <tbody>\n",
       "    <tr>\n",
       "      <th>0</th>\n",
       "      <td>ham</td>\n",
       "      <td>111</td>\n",
       "      <td>0.032609</td>\n",
       "      <td>go jurong point crazi avail bugi n great world...</td>\n",
       "    </tr>\n",
       "    <tr>\n",
       "      <th>1</th>\n",
       "      <td>spam</td>\n",
       "      <td>156</td>\n",
       "      <td>0.175182</td>\n",
       "      <td>smsservic yourinclus text credit pl goto wwwco...</td>\n",
       "    </tr>\n",
       "    <tr>\n",
       "      <th>2</th>\n",
       "      <td>spam</td>\n",
       "      <td>161</td>\n",
       "      <td>0.053435</td>\n",
       "      <td>25p 4 alfi moon children need song ur mob tell...</td>\n",
       "    </tr>\n",
       "    <tr>\n",
       "      <th>3</th>\n",
       "      <td>spam</td>\n",
       "      <td>147</td>\n",
       "      <td>0.198347</td>\n",
       "      <td>u secret admir reveal think u r special call 0...</td>\n",
       "    </tr>\n",
       "    <tr>\n",
       "      <th>4</th>\n",
       "      <td>spam</td>\n",
       "      <td>152</td>\n",
       "      <td>0.100775</td>\n",
       "      <td>dear voucher holder claim week offer pc pleas ...</td>\n",
       "    </tr>\n",
       "  </tbody>\n",
       "</table>\n",
       "</div>"
      ],
      "text/plain": [
       "  outcome  len_sms  sms_upper_pct  \\\n",
       "0     ham      111       0.032609   \n",
       "1    spam      156       0.175182   \n",
       "2    spam      161       0.053435   \n",
       "3    spam      147       0.198347   \n",
       "4    spam      152       0.100775   \n",
       "\n",
       "                                     cleaned_message  \n",
       "0  go jurong point crazi avail bugi n great world...  \n",
       "1  smsservic yourinclus text credit pl goto wwwco...  \n",
       "2  25p 4 alfi moon children need song ur mob tell...  \n",
       "3  u secret admir reveal think u r special call 0...  \n",
       "4  dear voucher holder claim week offer pc pleas ...  "
      ]
     },
     "execution_count": 17,
     "metadata": {},
     "output_type": "execute_result"
    }
   ],
   "source": [
    "sms_data['cleaned_message'] = sms_data.apply(lambda x: stemming_normalization(x['no_stop_message']), axis = 1)\n",
    "sms_data.drop(['no_stop_message'],axis=1, inplace=True)\n",
    "sms_data.head()"
   ]
  },
  {
   "cell_type": "markdown",
   "metadata": {},
   "source": [
    "**Applying tf-idf over all messages**"
   ]
  },
  {
   "cell_type": "code",
   "execution_count": 18,
   "metadata": {},
   "outputs": [
    {
     "data": {
      "text/html": [
       "<div>\n",
       "<style scoped>\n",
       "    .dataframe tbody tr th:only-of-type {\n",
       "        vertical-align: middle;\n",
       "    }\n",
       "\n",
       "    .dataframe tbody tr th {\n",
       "        vertical-align: top;\n",
       "    }\n",
       "\n",
       "    .dataframe thead th {\n",
       "        text-align: right;\n",
       "    }\n",
       "</style>\n",
       "<table border=\"1\" class=\"dataframe\">\n",
       "  <thead>\n",
       "    <tr style=\"text-align: right;\">\n",
       "      <th></th>\n",
       "      <th>0</th>\n",
       "      <th>1</th>\n",
       "      <th>2</th>\n",
       "      <th>3</th>\n",
       "      <th>4</th>\n",
       "      <th>5</th>\n",
       "      <th>6</th>\n",
       "      <th>7</th>\n",
       "      <th>8</th>\n",
       "      <th>9</th>\n",
       "      <th>...</th>\n",
       "      <th>7413</th>\n",
       "      <th>7414</th>\n",
       "      <th>7415</th>\n",
       "      <th>7416</th>\n",
       "      <th>7417</th>\n",
       "      <th>7418</th>\n",
       "      <th>7419</th>\n",
       "      <th>7420</th>\n",
       "      <th>7421</th>\n",
       "      <th>7422</th>\n",
       "    </tr>\n",
       "  </thead>\n",
       "  <tbody>\n",
       "    <tr>\n",
       "      <th>0</th>\n",
       "      <td>0.0</td>\n",
       "      <td>0.0</td>\n",
       "      <td>0.0</td>\n",
       "      <td>0.0</td>\n",
       "      <td>0.0</td>\n",
       "      <td>0.0</td>\n",
       "      <td>0.0</td>\n",
       "      <td>0.0</td>\n",
       "      <td>0.0</td>\n",
       "      <td>0.0</td>\n",
       "      <td>...</td>\n",
       "      <td>0.000000</td>\n",
       "      <td>0.0</td>\n",
       "      <td>0.0</td>\n",
       "      <td>0.0</td>\n",
       "      <td>0.0</td>\n",
       "      <td>0.0</td>\n",
       "      <td>0.0</td>\n",
       "      <td>0.0</td>\n",
       "      <td>0.0</td>\n",
       "      <td>0.0</td>\n",
       "    </tr>\n",
       "    <tr>\n",
       "      <th>1</th>\n",
       "      <td>0.0</td>\n",
       "      <td>0.0</td>\n",
       "      <td>0.0</td>\n",
       "      <td>0.0</td>\n",
       "      <td>0.0</td>\n",
       "      <td>0.0</td>\n",
       "      <td>0.0</td>\n",
       "      <td>0.0</td>\n",
       "      <td>0.0</td>\n",
       "      <td>0.0</td>\n",
       "      <td>...</td>\n",
       "      <td>0.000000</td>\n",
       "      <td>0.0</td>\n",
       "      <td>0.0</td>\n",
       "      <td>0.0</td>\n",
       "      <td>0.0</td>\n",
       "      <td>0.0</td>\n",
       "      <td>0.0</td>\n",
       "      <td>0.0</td>\n",
       "      <td>0.0</td>\n",
       "      <td>0.0</td>\n",
       "    </tr>\n",
       "    <tr>\n",
       "      <th>2</th>\n",
       "      <td>0.0</td>\n",
       "      <td>0.0</td>\n",
       "      <td>0.0</td>\n",
       "      <td>0.0</td>\n",
       "      <td>0.0</td>\n",
       "      <td>0.0</td>\n",
       "      <td>0.0</td>\n",
       "      <td>0.0</td>\n",
       "      <td>0.0</td>\n",
       "      <td>0.0</td>\n",
       "      <td>...</td>\n",
       "      <td>0.191337</td>\n",
       "      <td>0.0</td>\n",
       "      <td>0.0</td>\n",
       "      <td>0.0</td>\n",
       "      <td>0.0</td>\n",
       "      <td>0.0</td>\n",
       "      <td>0.0</td>\n",
       "      <td>0.0</td>\n",
       "      <td>0.0</td>\n",
       "      <td>0.0</td>\n",
       "    </tr>\n",
       "    <tr>\n",
       "      <th>3</th>\n",
       "      <td>0.0</td>\n",
       "      <td>0.0</td>\n",
       "      <td>0.0</td>\n",
       "      <td>0.0</td>\n",
       "      <td>0.0</td>\n",
       "      <td>0.0</td>\n",
       "      <td>0.0</td>\n",
       "      <td>0.0</td>\n",
       "      <td>0.0</td>\n",
       "      <td>0.0</td>\n",
       "      <td>...</td>\n",
       "      <td>0.000000</td>\n",
       "      <td>0.0</td>\n",
       "      <td>0.0</td>\n",
       "      <td>0.0</td>\n",
       "      <td>0.0</td>\n",
       "      <td>0.0</td>\n",
       "      <td>0.0</td>\n",
       "      <td>0.0</td>\n",
       "      <td>0.0</td>\n",
       "      <td>0.0</td>\n",
       "    </tr>\n",
       "    <tr>\n",
       "      <th>4</th>\n",
       "      <td>0.0</td>\n",
       "      <td>0.0</td>\n",
       "      <td>0.0</td>\n",
       "      <td>0.0</td>\n",
       "      <td>0.0</td>\n",
       "      <td>0.0</td>\n",
       "      <td>0.0</td>\n",
       "      <td>0.0</td>\n",
       "      <td>0.0</td>\n",
       "      <td>0.0</td>\n",
       "      <td>...</td>\n",
       "      <td>0.000000</td>\n",
       "      <td>0.0</td>\n",
       "      <td>0.0</td>\n",
       "      <td>0.0</td>\n",
       "      <td>0.0</td>\n",
       "      <td>0.0</td>\n",
       "      <td>0.0</td>\n",
       "      <td>0.0</td>\n",
       "      <td>0.0</td>\n",
       "      <td>0.0</td>\n",
       "    </tr>\n",
       "  </tbody>\n",
       "</table>\n",
       "<p>5 rows × 7423 columns</p>\n",
       "</div>"
      ],
      "text/plain": [
       "   0     1     2     3     4     5     6     7     8     9     ...      7413  \\\n",
       "0   0.0   0.0   0.0   0.0   0.0   0.0   0.0   0.0   0.0   0.0  ...  0.000000   \n",
       "1   0.0   0.0   0.0   0.0   0.0   0.0   0.0   0.0   0.0   0.0  ...  0.000000   \n",
       "2   0.0   0.0   0.0   0.0   0.0   0.0   0.0   0.0   0.0   0.0  ...  0.191337   \n",
       "3   0.0   0.0   0.0   0.0   0.0   0.0   0.0   0.0   0.0   0.0  ...  0.000000   \n",
       "4   0.0   0.0   0.0   0.0   0.0   0.0   0.0   0.0   0.0   0.0  ...  0.000000   \n",
       "\n",
       "   7414  7415  7416  7417  7418  7419  7420  7421  7422  \n",
       "0   0.0   0.0   0.0   0.0   0.0   0.0   0.0   0.0   0.0  \n",
       "1   0.0   0.0   0.0   0.0   0.0   0.0   0.0   0.0   0.0  \n",
       "2   0.0   0.0   0.0   0.0   0.0   0.0   0.0   0.0   0.0  \n",
       "3   0.0   0.0   0.0   0.0   0.0   0.0   0.0   0.0   0.0  \n",
       "4   0.0   0.0   0.0   0.0   0.0   0.0   0.0   0.0   0.0  \n",
       "\n",
       "[5 rows x 7423 columns]"
      ]
     },
     "execution_count": 18,
     "metadata": {},
     "output_type": "execute_result"
    }
   ],
   "source": [
    "tfidf_transformer = TfidfVectorizer()\n",
    "tfidf_vec = tfidf_transformer.fit_transform(sms_data.cleaned_message)\n",
    "tfidf_data = pd.DataFrame(tfidf_vec.toarray())\n",
    "tfidf_data.head()"
   ]
  },
  {
   "cell_type": "code",
   "execution_count": 19,
   "metadata": {},
   "outputs": [
    {
     "name": "stdout",
     "output_type": "stream",
     "text": [
      "At the final, tf-idf corpus has a total of 7423 words\n"
     ]
    }
   ],
   "source": [
    "print(\"At the final, tf-idf corpus has a total of {} words\".format(len(tfidf_data.columns)))"
   ]
  },
  {
   "cell_type": "markdown",
   "metadata": {},
   "source": [
    "Now that we have the claned/processed messages, we are going to divide only the data that was already separable to train in train/test in order to evaluate our model."
   ]
  },
  {
   "cell_type": "code",
   "execution_count": 20,
   "metadata": {},
   "outputs": [
    {
     "data": {
      "text/html": [
       "<div>\n",
       "<style scoped>\n",
       "    .dataframe tbody tr th:only-of-type {\n",
       "        vertical-align: middle;\n",
       "    }\n",
       "\n",
       "    .dataframe tbody tr th {\n",
       "        vertical-align: top;\n",
       "    }\n",
       "\n",
       "    .dataframe thead th {\n",
       "        text-align: right;\n",
       "    }\n",
       "</style>\n",
       "<table border=\"1\" class=\"dataframe\">\n",
       "  <thead>\n",
       "    <tr style=\"text-align: right;\">\n",
       "      <th></th>\n",
       "      <th>len_sms</th>\n",
       "      <th>sms_upper_pct</th>\n",
       "      <th>0</th>\n",
       "      <th>1</th>\n",
       "      <th>2</th>\n",
       "      <th>3</th>\n",
       "      <th>4</th>\n",
       "      <th>5</th>\n",
       "      <th>6</th>\n",
       "      <th>7</th>\n",
       "      <th>...</th>\n",
       "      <th>7413</th>\n",
       "      <th>7414</th>\n",
       "      <th>7415</th>\n",
       "      <th>7416</th>\n",
       "      <th>7417</th>\n",
       "      <th>7418</th>\n",
       "      <th>7419</th>\n",
       "      <th>7420</th>\n",
       "      <th>7421</th>\n",
       "      <th>7422</th>\n",
       "    </tr>\n",
       "  </thead>\n",
       "  <tbody>\n",
       "    <tr>\n",
       "      <th>0</th>\n",
       "      <td>111</td>\n",
       "      <td>0.032609</td>\n",
       "      <td>0.0</td>\n",
       "      <td>0.0</td>\n",
       "      <td>0.0</td>\n",
       "      <td>0.0</td>\n",
       "      <td>0.0</td>\n",
       "      <td>0.0</td>\n",
       "      <td>0.0</td>\n",
       "      <td>0.0</td>\n",
       "      <td>...</td>\n",
       "      <td>0.000000</td>\n",
       "      <td>0.0</td>\n",
       "      <td>0.0</td>\n",
       "      <td>0.0</td>\n",
       "      <td>0.0</td>\n",
       "      <td>0.0</td>\n",
       "      <td>0.0</td>\n",
       "      <td>0.0</td>\n",
       "      <td>0.0</td>\n",
       "      <td>0.0</td>\n",
       "    </tr>\n",
       "    <tr>\n",
       "      <th>1</th>\n",
       "      <td>156</td>\n",
       "      <td>0.175182</td>\n",
       "      <td>0.0</td>\n",
       "      <td>0.0</td>\n",
       "      <td>0.0</td>\n",
       "      <td>0.0</td>\n",
       "      <td>0.0</td>\n",
       "      <td>0.0</td>\n",
       "      <td>0.0</td>\n",
       "      <td>0.0</td>\n",
       "      <td>...</td>\n",
       "      <td>0.000000</td>\n",
       "      <td>0.0</td>\n",
       "      <td>0.0</td>\n",
       "      <td>0.0</td>\n",
       "      <td>0.0</td>\n",
       "      <td>0.0</td>\n",
       "      <td>0.0</td>\n",
       "      <td>0.0</td>\n",
       "      <td>0.0</td>\n",
       "      <td>0.0</td>\n",
       "    </tr>\n",
       "    <tr>\n",
       "      <th>2</th>\n",
       "      <td>161</td>\n",
       "      <td>0.053435</td>\n",
       "      <td>0.0</td>\n",
       "      <td>0.0</td>\n",
       "      <td>0.0</td>\n",
       "      <td>0.0</td>\n",
       "      <td>0.0</td>\n",
       "      <td>0.0</td>\n",
       "      <td>0.0</td>\n",
       "      <td>0.0</td>\n",
       "      <td>...</td>\n",
       "      <td>0.191337</td>\n",
       "      <td>0.0</td>\n",
       "      <td>0.0</td>\n",
       "      <td>0.0</td>\n",
       "      <td>0.0</td>\n",
       "      <td>0.0</td>\n",
       "      <td>0.0</td>\n",
       "      <td>0.0</td>\n",
       "      <td>0.0</td>\n",
       "      <td>0.0</td>\n",
       "    </tr>\n",
       "    <tr>\n",
       "      <th>3</th>\n",
       "      <td>147</td>\n",
       "      <td>0.198347</td>\n",
       "      <td>0.0</td>\n",
       "      <td>0.0</td>\n",
       "      <td>0.0</td>\n",
       "      <td>0.0</td>\n",
       "      <td>0.0</td>\n",
       "      <td>0.0</td>\n",
       "      <td>0.0</td>\n",
       "      <td>0.0</td>\n",
       "      <td>...</td>\n",
       "      <td>0.000000</td>\n",
       "      <td>0.0</td>\n",
       "      <td>0.0</td>\n",
       "      <td>0.0</td>\n",
       "      <td>0.0</td>\n",
       "      <td>0.0</td>\n",
       "      <td>0.0</td>\n",
       "      <td>0.0</td>\n",
       "      <td>0.0</td>\n",
       "      <td>0.0</td>\n",
       "    </tr>\n",
       "    <tr>\n",
       "      <th>4</th>\n",
       "      <td>152</td>\n",
       "      <td>0.100775</td>\n",
       "      <td>0.0</td>\n",
       "      <td>0.0</td>\n",
       "      <td>0.0</td>\n",
       "      <td>0.0</td>\n",
       "      <td>0.0</td>\n",
       "      <td>0.0</td>\n",
       "      <td>0.0</td>\n",
       "      <td>0.0</td>\n",
       "      <td>...</td>\n",
       "      <td>0.000000</td>\n",
       "      <td>0.0</td>\n",
       "      <td>0.0</td>\n",
       "      <td>0.0</td>\n",
       "      <td>0.0</td>\n",
       "      <td>0.0</td>\n",
       "      <td>0.0</td>\n",
       "      <td>0.0</td>\n",
       "      <td>0.0</td>\n",
       "      <td>0.0</td>\n",
       "    </tr>\n",
       "  </tbody>\n",
       "</table>\n",
       "<p>5 rows × 7425 columns</p>\n",
       "</div>"
      ],
      "text/plain": [
       "   len_sms  sms_upper_pct    0    1    2    3    4    5    6    7  ...  \\\n",
       "0      111       0.032609  0.0  0.0  0.0  0.0  0.0  0.0  0.0  0.0  ...   \n",
       "1      156       0.175182  0.0  0.0  0.0  0.0  0.0  0.0  0.0  0.0  ...   \n",
       "2      161       0.053435  0.0  0.0  0.0  0.0  0.0  0.0  0.0  0.0  ...   \n",
       "3      147       0.198347  0.0  0.0  0.0  0.0  0.0  0.0  0.0  0.0  ...   \n",
       "4      152       0.100775  0.0  0.0  0.0  0.0  0.0  0.0  0.0  0.0  ...   \n",
       "\n",
       "       7413  7414  7415  7416  7417  7418  7419  7420  7421  7422  \n",
       "0  0.000000   0.0   0.0   0.0   0.0   0.0   0.0   0.0   0.0   0.0  \n",
       "1  0.000000   0.0   0.0   0.0   0.0   0.0   0.0   0.0   0.0   0.0  \n",
       "2  0.191337   0.0   0.0   0.0   0.0   0.0   0.0   0.0   0.0   0.0  \n",
       "3  0.000000   0.0   0.0   0.0   0.0   0.0   0.0   0.0   0.0   0.0  \n",
       "4  0.000000   0.0   0.0   0.0   0.0   0.0   0.0   0.0   0.0   0.0  \n",
       "\n",
       "[5 rows x 7425 columns]"
      ]
     },
     "execution_count": 20,
     "metadata": {},
     "output_type": "execute_result"
    }
   ],
   "source": [
    "sms_data.drop(['cleaned_message'],axis=1, inplace=True)\n",
    "final_data = pd.concat([sms_data, tfidf_data], axis=1, sort=False)\n",
    "final_data.drop(['outcome'], axis=1, inplace=True)\n",
    "final_data.head()"
   ]
  },
  {
   "cell_type": "markdown",
   "metadata": {},
   "source": [
    "### Model fit"
   ]
  },
  {
   "cell_type": "code",
   "execution_count": 21,
   "metadata": {},
   "outputs": [],
   "source": [
    "from sklearn.model_selection import train_test_split\n",
    "\n",
    "msg_train, msg_test, label_train, label_test = train_test_split(final_data, sms_data['outcome'], test_size=0.1)"
   ]
  },
  {
   "cell_type": "code",
   "execution_count": 22,
   "metadata": {},
   "outputs": [],
   "source": [
    "from sklearn.ensemble import RandomForestClassifier\n",
    "\n",
    "rf = RandomForestClassifier(n_estimators=50, max_depth=None, n_jobs=-1)\n",
    "rf_model = rf.fit(msg_train, label_train)"
   ]
  },
  {
   "cell_type": "code",
   "execution_count": 23,
   "metadata": {},
   "outputs": [],
   "source": [
    "rf_prediction=rf_model.predict(msg_test)"
   ]
  },
  {
   "cell_type": "code",
   "execution_count": 27,
   "metadata": {},
   "outputs": [
    {
     "name": "stdout",
     "output_type": "stream",
     "text": [
      "Precision: 1.0, Recall: 0.791 and Fscore 0.883\n",
      "Accuracy: 0.97\n"
     ]
    }
   ],
   "source": [
    "from sklearn.metrics import precision_recall_fscore_support as score\n",
    "precision, recall, fscore, support = score(label_test,rf_prediction,pos_label='spam',average='binary')\n",
    "print(\"Precision: {}, Recall: {} and Fscore {}\".format(precision, round(recall,3), round(fscore,3)))\n",
    "print(\"Accuracy: {}\".format( round((rf_prediction==label_test).sum() / len(rf_prediction),3)))"
   ]
  },
  {
   "cell_type": "markdown",
   "metadata": {},
   "source": [
    "### AUC Roc\n",
    "\n",
    "For binary and disbalanced tasks, measure the model over the simplests metrics can be not enougth. For this purpose, measure the [area under the Roc curve](https://towardsdatascience.com/understanding-auc-roc-curve-68b2303cc9c5) seems like one good choise.\n",
    "\n",
    "For short, the Roc curve describe how the model behaves in relation to TP (True Positives) and FP (False Positives). The AUC (Area Under Curve) describes how much the model can distinguish the classes."
   ]
  },
  {
   "cell_type": "code",
   "execution_count": 58,
   "metadata": {},
   "outputs": [
    {
     "name": "stdout",
     "output_type": "stream",
     "text": [
      "The Area Under the Roc Curve is: 0.994\n"
     ]
    }
   ],
   "source": [
    "# get the positive outcomes\n",
    "rf_prediction_proba = rf_model.predict_proba(msg_test)[::,1]\n",
    "auc = metrics.roc_auc_score(label_test, rf_prediction_proba)\n",
    "print(\"The Area Under the Roc Curve is: {}\".format(round(auc, 3)))"
   ]
  },
  {
   "cell_type": "markdown",
   "metadata": {},
   "source": [
    "### Filling in the testset"
   ]
  },
  {
   "cell_type": "code",
   "execution_count": null,
   "metadata": {},
   "outputs": [],
   "source": []
  }
 ],
 "metadata": {
  "kernelspec": {
   "display_name": "Python 3",
   "language": "python",
   "name": "python3"
  },
  "language_info": {
   "codemirror_mode": {
    "name": "ipython",
    "version": 3
   },
   "file_extension": ".py",
   "mimetype": "text/x-python",
   "name": "python",
   "nbconvert_exporter": "python",
   "pygments_lexer": "ipython3",
   "version": "3.6.9"
  }
 },
 "nbformat": 4,
 "nbformat_minor": 4
}
